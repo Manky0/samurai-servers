{
 "cells": [
  {
   "cell_type": "code",
   "execution_count": 86,
   "metadata": {},
   "outputs": [
    {
     "data": {
      "text/plain": [
       "count    161.000000\n",
       "mean       0.521739\n",
       "std        1.012960\n",
       "min        0.000000\n",
       "25%        0.000000\n",
       "50%        0.000000\n",
       "75%        1.000000\n",
       "max        7.000000\n",
       "Name: ms_diff, dtype: float64"
      ]
     },
     "execution_count": 86,
     "metadata": {},
     "output_type": "execute_result"
    }
   ],
   "source": [
    "import pandas as pd\n",
    "import numpy as np\n",
    "\n",
    "# Load the CSV file\n",
    "df = pd.read_csv(\"4247868680.csv\", header=None)\n",
    "\n",
    "df[0] = pd.to_datetime(df[0], unit='ms')\n",
    "df[1] = pd.to_datetime(df[1], unit='ms')\n",
    "\n",
    "df['ms_diff'] = (df[1] - df[0]).dt.total_seconds() * 1000\n",
    "\n",
    "df['ms_diff'].describe()"
   ]
  },
  {
   "cell_type": "code",
   "execution_count": 87,
   "metadata": {},
   "outputs": [],
   "source": [
    "df['delta'] = (df[0]-df[0].shift()).fillna(0)"
   ]
  },
  {
   "cell_type": "code",
   "execution_count": 88,
   "metadata": {},
   "outputs": [],
   "source": [
    "deltas_ms = []\n",
    "\n",
    "for delta in df['delta']:\n",
    "    if (type(delta) != int):\n",
    "        deltas_ms.append(delta.total_seconds() * 1000)\n",
    "\n",
    "deltas_ms = np.array(deltas_ms)"
   ]
  },
  {
   "cell_type": "code",
   "execution_count": 89,
   "metadata": {},
   "outputs": [
    {
     "data": {
      "text/plain": [
       "count     160.000000\n",
       "mean      199.962500\n",
       "std        88.818796\n",
       "min        73.000000\n",
       "25%       183.500000\n",
       "50%       200.000000\n",
       "75%       208.500000\n",
       "max      1251.000000\n",
       "Name: 0, dtype: float64"
      ]
     },
     "execution_count": 89,
     "metadata": {},
     "output_type": "execute_result"
    }
   ],
   "source": [
    "desc = pd.DataFrame(deltas_ms)\n",
    "desc[0].describe()"
   ]
  }
 ],
 "metadata": {
  "kernelspec": {
   "display_name": "Python 3",
   "language": "python",
   "name": "python3"
  },
  "language_info": {
   "codemirror_mode": {
    "name": "ipython",
    "version": 3
   },
   "file_extension": ".py",
   "mimetype": "text/x-python",
   "name": "python",
   "nbconvert_exporter": "python",
   "pygments_lexer": "ipython3",
   "version": "3.10.12"
  }
 },
 "nbformat": 4,
 "nbformat_minor": 2
}
