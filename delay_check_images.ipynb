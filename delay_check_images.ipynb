{
 "cells": [
  {
   "cell_type": "code",
   "execution_count": 71,
   "metadata": {},
   "outputs": [],
   "source": [
    "import pandas as pd\n",
    "import numpy as np\n",
    "from datetime import datetime\n",
    "import os\n",
    "\n",
    "path = \"./5ms_timestamp/\"\n",
    "\n",
    "rgb_images = path + \"images/rgb_sta/\"\n",
    "depth_images = path + \"images/depth_sta/\"\n"
   ]
  },
  {
   "cell_type": "code",
   "execution_count": 72,
   "metadata": {},
   "outputs": [
    {
     "name": "stdout",
     "output_type": "stream",
     "text": [
      "[[1738161213404, 1738161213409], [1738161213605, 1738161213608], [1738161213805, 1738161213809], [1738161214004, 1738161214007], [1738161214204, 1738161214208], [1738161214403, 1738161214408], [1738161214605, 1738161214609], [1738161214807, 1738161214812], [1738161215007, 1738161215011], [1738161215204, 1738161215216], [1738161215400, 1738161215410], [1738161215604, 1738161215609], [1738161215807, 1738161215810], [1738161216007, 1738161216010], [1738161216205, 1738161216208], [1738161216404, 1738161216408], [1738161216606, 1738161216610], [1738161216805, 1738161216808], [1738161217004, 1738161217008], [1738161217207, 1738161217210], [1738161217404, 1738161217408], [1738161217606, 1738161217610], [1738161217805, 1738161217809], [1738161218005, 1738161218009], [1738161218206, 1738161218209], [1738161218404, 1738161218408], [1738161218606, 1738161218609], [1738161218806, 1738161218810], [1738161219005, 1738161219009], [1738161219205, 1738161219209], [1738161219408, 1738161219412], [1738161219613, 1738161219617], [1738161219806, 1738161219810], [1738161220006, 1738161220010], [1738161220206, 1738161220209], [1738161220404, 1738161220408], [1738161220601, 1738161220605], [1738161220803, 1738161220807], [1738161221005, 1738161221009], [1738161221204, 1738161221208], [1738161221407, 1738161221411], [1738161221603, 1738161221608], [1738161221812, 1738161221816], [1738161222011, 1738161222015], [1738161222207, 1738161222210], [1738161222404, 1738161222408], [1738161222606, 1738161222610], [1738161222805, 1738161222808], [1738161223007, 1738161223011], [1738161223203, 1738161223207], [1738161223405, 1738161223409], [1738161223604, 1738161223608], [1738161223806, 1738161223809], [1738161224005, 1738161224017], [1738161224205, 1738161224210], [1738161224404, 1738161224408], [1738161224617, 1738161224620], [1738161224804, 1738161224808], [1738161225008, 1738161225012], [1738161225202, 1738161225206], [1738161225404, 1738161225407], [1738161225605, 1738161225610], [1738161225805, 1738161225809], [1738161226005, 1738161226009], [1738161226207, 1738161226211], [1738161226406, 1738161226411], [1738161226608, 1738161226612], [1738161226807, 1738161226813], [1738161227007, 1738161227011], [1738161227205, 1738161227208], [1738161227403, 1738161227407], [1738161227605, 1738161227609], [1738161227803, 1738161227807], [1738161228002, 1738161228006], [1738161228211, 1738161228214], [1738161228417, 1738161228421], [1738161228606, 1738161228610], [1738161228805, 1738161228809], [1738161229004, 1738161229008], [1738161229206, 1738161229210], [1738161229404, 1738161229408], [1738161229603, 1738161229607], [1738161229806, 1738161229810], [1738161230003, 1738161230008], [1738161230203, 1738161230206], [1738161230404, 1738161230408], [1738161230608, 1738161230612], [1738161230806, 1738161230810], [1738161231007, 1738161231010], [1738161231205, 1738161231208], [1738161231407, 1738161231410], [1738161231605, 1738161231609], [1738161231802, 1738161231806], [1738161232003, 1738161232007], [1738161232202, 1738161232206], [1738161232401, 1738161232404], [1738161232604, 1738161232608], [1738161232813, 1738161232817], [1738161233004, 1738161233009], [1738161233198, 1738161233202]]\n"
     ]
    }
   ],
   "source": [
    "def parse_timestamp(timestamps):\n",
    "    timestamps_list = []\n",
    "    for timestamp in timestamps:\n",
    "        timestamp = timestamp.split(\".\")[0].split(\"_\")\n",
    "        timestamps_list.append([int(timestamp[0]), int(timestamp[1])])\n",
    "    \n",
    "    return timestamps_list\n",
    "        # print(timestamp)\n",
    "\n",
    "rgb_timestamps = sorted(os.listdir(rgb_images))\n",
    "rgb_timestamps = parse_timestamp(rgb_timestamps)\n",
    "\n",
    "depth_timestamps = sorted(os.listdir(depth_images))\n",
    "depth_timestamps = parse_timestamp(depth_timestamps)\n",
    "\n",
    "print(depth_timestamps)"
   ]
  },
  {
   "cell_type": "code",
   "execution_count": 73,
   "metadata": {},
   "outputs": [],
   "source": [
    "# datetime.fromtimestamp(depth_timestamps[0][0] / 1000)\n",
    "\n",
    "def get_cap_rec_diff(timestamps):\n",
    "    diff_list = []\n",
    "    for timestamp in timestamps:\n",
    "        dt1 = datetime.fromtimestamp(timestamp[0] / 1000)\n",
    "        dt2 = datetime.fromtimestamp(timestamp[1] / 1000)\n",
    "        diff = (dt2 - dt1).total_seconds() * 1000\n",
    "        diff_list.append(diff)\n",
    "    \n",
    "    return diff_list\n",
    "\n",
    "def get_str_fin_diff(timestamps_1, timestamps_2):\n",
    "    diff_list = []\n",
    "\n",
    "    for i in range(len(timestamps_1)):\n",
    "        dt1 = datetime.fromtimestamp(timestamps_1[i][0] / 1000)\n",
    "        dt2 = datetime.fromtimestamp(timestamps_2[i][1] / 1000)\n",
    "        diff = (dt2 - dt1).total_seconds() * 1000\n",
    "        diff_list.append(diff)\n",
    "    \n",
    "    return diff_list"
   ]
  },
  {
   "cell_type": "code",
   "execution_count": 74,
   "metadata": {},
   "outputs": [
    {
     "data": {
      "text/html": [
       "<div>\n",
       "<style scoped>\n",
       "    .dataframe tbody tr th:only-of-type {\n",
       "        vertical-align: middle;\n",
       "    }\n",
       "\n",
       "    .dataframe tbody tr th {\n",
       "        vertical-align: top;\n",
       "    }\n",
       "\n",
       "    .dataframe thead th {\n",
       "        text-align: right;\n",
       "    }\n",
       "</style>\n",
       "<table border=\"1\" class=\"dataframe\">\n",
       "  <thead>\n",
       "    <tr style=\"text-align: right;\">\n",
       "      <th></th>\n",
       "      <th>0</th>\n",
       "    </tr>\n",
       "  </thead>\n",
       "  <tbody>\n",
       "    <tr>\n",
       "      <th>count</th>\n",
       "      <td>100.000000</td>\n",
       "    </tr>\n",
       "    <tr>\n",
       "      <th>mean</th>\n",
       "      <td>4.680000</td>\n",
       "    </tr>\n",
       "    <tr>\n",
       "      <th>std</th>\n",
       "      <td>3.240776</td>\n",
       "    </tr>\n",
       "    <tr>\n",
       "      <th>min</th>\n",
       "      <td>3.000000</td>\n",
       "    </tr>\n",
       "    <tr>\n",
       "      <th>25%</th>\n",
       "      <td>3.000000</td>\n",
       "    </tr>\n",
       "    <tr>\n",
       "      <th>50%</th>\n",
       "      <td>3.500000</td>\n",
       "    </tr>\n",
       "    <tr>\n",
       "      <th>75%</th>\n",
       "      <td>4.000000</td>\n",
       "    </tr>\n",
       "    <tr>\n",
       "      <th>max</th>\n",
       "      <td>18.000000</td>\n",
       "    </tr>\n",
       "  </tbody>\n",
       "</table>\n",
       "</div>"
      ],
      "text/plain": [
       "                0\n",
       "count  100.000000\n",
       "mean     4.680000\n",
       "std      3.240776\n",
       "min      3.000000\n",
       "25%      3.000000\n",
       "50%      3.500000\n",
       "75%      4.000000\n",
       "max     18.000000"
      ]
     },
     "execution_count": 74,
     "metadata": {},
     "output_type": "execute_result"
    }
   ],
   "source": [
    "rgb_diff = get_cap_rec_diff(rgb_timestamps)\n",
    "pd.DataFrame(rgb_diff).describe()"
   ]
  },
  {
   "cell_type": "code",
   "execution_count": 75,
   "metadata": {},
   "outputs": [
    {
     "data": {
      "text/html": [
       "<div>\n",
       "<style scoped>\n",
       "    .dataframe tbody tr th:only-of-type {\n",
       "        vertical-align: middle;\n",
       "    }\n",
       "\n",
       "    .dataframe tbody tr th {\n",
       "        vertical-align: top;\n",
       "    }\n",
       "\n",
       "    .dataframe thead th {\n",
       "        text-align: right;\n",
       "    }\n",
       "</style>\n",
       "<table border=\"1\" class=\"dataframe\">\n",
       "  <thead>\n",
       "    <tr style=\"text-align: right;\">\n",
       "      <th></th>\n",
       "      <th>0</th>\n",
       "    </tr>\n",
       "  </thead>\n",
       "  <tbody>\n",
       "    <tr>\n",
       "      <th>count</th>\n",
       "      <td>100.000000</td>\n",
       "    </tr>\n",
       "    <tr>\n",
       "      <th>mean</th>\n",
       "      <td>4.120000</td>\n",
       "    </tr>\n",
       "    <tr>\n",
       "      <th>std</th>\n",
       "      <td>1.416212</td>\n",
       "    </tr>\n",
       "    <tr>\n",
       "      <th>min</th>\n",
       "      <td>3.000000</td>\n",
       "    </tr>\n",
       "    <tr>\n",
       "      <th>25%</th>\n",
       "      <td>4.000000</td>\n",
       "    </tr>\n",
       "    <tr>\n",
       "      <th>50%</th>\n",
       "      <td>4.000000</td>\n",
       "    </tr>\n",
       "    <tr>\n",
       "      <th>75%</th>\n",
       "      <td>4.000000</td>\n",
       "    </tr>\n",
       "    <tr>\n",
       "      <th>max</th>\n",
       "      <td>12.000000</td>\n",
       "    </tr>\n",
       "  </tbody>\n",
       "</table>\n",
       "</div>"
      ],
      "text/plain": [
       "                0\n",
       "count  100.000000\n",
       "mean     4.120000\n",
       "std      1.416212\n",
       "min      3.000000\n",
       "25%      4.000000\n",
       "50%      4.000000\n",
       "75%      4.000000\n",
       "max     12.000000"
      ]
     },
     "execution_count": 75,
     "metadata": {},
     "output_type": "execute_result"
    }
   ],
   "source": [
    "depth_diff = get_cap_rec_diff(depth_timestamps)\n",
    "pd.DataFrame(depth_diff).describe()"
   ]
  },
  {
   "cell_type": "code",
   "execution_count": 76,
   "metadata": {},
   "outputs": [
    {
     "data": {
      "text/html": [
       "<div>\n",
       "<style scoped>\n",
       "    .dataframe tbody tr th:only-of-type {\n",
       "        vertical-align: middle;\n",
       "    }\n",
       "\n",
       "    .dataframe tbody tr th {\n",
       "        vertical-align: top;\n",
       "    }\n",
       "\n",
       "    .dataframe thead th {\n",
       "        text-align: right;\n",
       "    }\n",
       "</style>\n",
       "<table border=\"1\" class=\"dataframe\">\n",
       "  <thead>\n",
       "    <tr style=\"text-align: right;\">\n",
       "      <th></th>\n",
       "      <th>0</th>\n",
       "    </tr>\n",
       "  </thead>\n",
       "  <tbody>\n",
       "    <tr>\n",
       "      <th>count</th>\n",
       "      <td>100.000000</td>\n",
       "    </tr>\n",
       "    <tr>\n",
       "      <th>mean</th>\n",
       "      <td>21.490000</td>\n",
       "    </tr>\n",
       "    <tr>\n",
       "      <th>std</th>\n",
       "      <td>1.678714</td>\n",
       "    </tr>\n",
       "    <tr>\n",
       "      <th>min</th>\n",
       "      <td>19.000000</td>\n",
       "    </tr>\n",
       "    <tr>\n",
       "      <th>25%</th>\n",
       "      <td>20.000000</td>\n",
       "    </tr>\n",
       "    <tr>\n",
       "      <th>50%</th>\n",
       "      <td>21.000000</td>\n",
       "    </tr>\n",
       "    <tr>\n",
       "      <th>75%</th>\n",
       "      <td>22.000000</td>\n",
       "    </tr>\n",
       "    <tr>\n",
       "      <th>max</th>\n",
       "      <td>29.000000</td>\n",
       "    </tr>\n",
       "  </tbody>\n",
       "</table>\n",
       "</div>"
      ],
      "text/plain": [
       "                0\n",
       "count  100.000000\n",
       "mean    21.490000\n",
       "std      1.678714\n",
       "min     19.000000\n",
       "25%     20.000000\n",
       "50%     21.000000\n",
       "75%     22.000000\n",
       "max     29.000000"
      ]
     },
     "execution_count": 76,
     "metadata": {},
     "output_type": "execute_result"
    }
   ],
   "source": [
    "full_diff = get_str_fin_diff(rgb_timestamps, depth_timestamps)\n",
    "pd.DataFrame(full_diff).describe()"
   ]
  }
 ],
 "metadata": {
  "kernelspec": {
   "display_name": "Python 3",
   "language": "python",
   "name": "python3"
  },
  "language_info": {
   "codemirror_mode": {
    "name": "ipython",
    "version": 3
   },
   "file_extension": ".py",
   "mimetype": "text/x-python",
   "name": "python",
   "nbconvert_exporter": "python",
   "pygments_lexer": "ipython3",
   "version": "3.10.12"
  }
 },
 "nbformat": 4,
 "nbformat_minor": 2
}
